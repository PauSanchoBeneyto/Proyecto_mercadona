{
  "nbformat": 4,
  "nbformat_minor": 0,
  "metadata": {
    "colab": {
      "provenance": [],
      "authorship_tag": "ABX9TyN7IJc/T/W4DROtnZwkwqpf",
      "include_colab_link": true
    },
    "kernelspec": {
      "name": "python3",
      "display_name": "Python 3"
    },
    "language_info": {
      "name": "python"
    }
  },
  "cells": [
    {
      "cell_type": "markdown",
      "metadata": {
        "id": "view-in-github",
        "colab_type": "text"
      },
      "source": [
        "<a href=\"https://colab.research.google.com/github/PauSanchoBeneyto/Mercadona_Pontia/blob/main/Web_Scraping_Dia.ipynb\" target=\"_parent\"><img src=\"https://colab.research.google.com/assets/colab-badge.svg\" alt=\"Open In Colab\"/></a>"
      ]
    },
    {
      "cell_type": "code",
      "execution_count": 32,
      "metadata": {
        "id": "L5Dd8YN1D2Hu"
      },
      "outputs": [],
      "source": [
        "from urllib.request import urlopen\n",
        "import csv\n",
        "import json\n",
        "import pandas as pd"
      ]
    },
    {
      "cell_type": "code",
      "source": [
        "def get_jsonparsed_data(url):\n",
        " response = urlopen(url)\n",
        " data = json.loads(response.read().decode())\n",
        " return data"
      ],
      "metadata": {
        "id": "QkCv6BHUEAAb"
      },
      "execution_count": 33,
      "outputs": []
    },
    {
      "cell_type": "code",
      "source": [
        "url = (\"https://www.dia.es/api/v1/pdp-insight/initial_analytics/207399\")\n",
        "datosJson1 = get_jsonparsed_data(url)"
      ],
      "metadata": {
        "id": "g98Aqw1wEW-3"
      },
      "execution_count": 34,
      "outputs": []
    },
    {
      "cell_type": "code",
      "source": [
        "fichero = open('data_dia.csv', 'w')\n",
        "csv_graba = csv.writer(fichero)\n",
        "csv_graba.writerow((\"Nombre\",\"Categoria1\",\"Categoria2\",\"UM\",\"Precio Unitario\",\"Precio\"))"
      ],
      "metadata": {
        "colab": {
          "base_uri": "https://localhost:8080/"
        },
        "id": "4VOcX9FTEYow",
        "outputId": "5539aaad-cdf3-4a43-9076-e152f1ec924b"
      },
      "execution_count": 35,
      "outputs": [
        {
          "output_type": "execute_result",
          "data": {
            "text/plain": [
              "56"
            ]
          },
          "metadata": {},
          "execution_count": 35
        }
      ]
    },
    {
      "cell_type": "code",
      "source": [
        "for i in datosJson1['menu_analytics']:\n",
        " strNumero = i\n",
        " url = \"https://www.dia.es/api/v1/search-back/search/reduced?q=\" + strNumero + \"&page=1\"\n",
        " datosJson = get_jsonparsed_data(url)\n",
        " for x in datosJson.get(\"search_items\"):\n",
        "    datosArray = []\n",
        "    display_name                = x['display_name']\n",
        "    l1_category_description     = x['l1_category_description']\n",
        "    l2_category_description     = x['l2_category_description']\n",
        "    prices                      = x['prices']\n",
        "    datosArray.append(display_name)\n",
        "    datosArray.append(l1_category_description)\n",
        "    datosArray.append(l2_category_description)\n",
        "    measure_unit                = prices['measure_unit']\n",
        "    price                       = prices['price']\n",
        "    price_per_unit              = prices['price_per_unit']\n",
        "    datosArray.append(measure_unit)\n",
        "    datosArray.append(price_per_unit)\n",
        "    datosArray.append(price)\n",
        "    csv_graba.writerow(datosArray)"
      ],
      "metadata": {
        "id": "qxMDEzC5EbpF"
      },
      "execution_count": 36,
      "outputs": []
    },
    {
      "cell_type": "code",
      "source": [
        "fichero.close()"
      ],
      "metadata": {
        "id": "ilvQTyb2Ehfd"
      },
      "execution_count": 37,
      "outputs": []
    },
    {
      "cell_type": "code",
      "source": [
        "df = pd.read_csv('data_dia.csv')\n",
        "nuevos_nombres = {'Categoria1': 'categoria', 'Categoria2': 'subcategoria'}\n",
        "df = df.rename(columns=nuevos_nombres)"
      ],
      "metadata": {
        "id": "BRCjdnPkFOmR"
      },
      "execution_count": 42,
      "outputs": []
    },
    {
      "cell_type": "code",
      "source": [
        "valores_unicos = df['categoria'].unique()\n",
        "valores_unicos"
      ],
      "metadata": {
        "colab": {
          "base_uri": "https://localhost:8080/"
        },
        "id": "RLazjKnBHSkZ",
        "outputId": "b23066fe-45d6-4866-b4b6-0458fbf4bdf7"
      },
      "execution_count": 44,
      "outputs": [
        {
          "output_type": "execute_result",
          "data": {
            "text/plain": [
              "array(['Pescados, mariscos y ahumados', 'Charcutería y quesos',\n",
              "       'Carnicería', 'Pizzas y platos preparados', 'Verduras', 'Frutas',\n",
              "       'Aceites, salsas y especias', 'Arroz, pastas y legumbres',\n",
              "       'Café, cacao e infusiones', 'Leche, huevos y mantequilla',\n",
              "       'Azúcar, chocolates y caramelos', 'Galletas, bollos y cereales',\n",
              "       'Panes, harinas y masas', 'Agua, refrescos y zumos',\n",
              "       'Yogures y postres', 'Patatas fritas, encurtidos y frutos secos',\n",
              "       'Conservas, caldos y cremas',\n",
              "       'Cervezas, vinos y bebidas con alcohol', 'Congelados', 'Bebé',\n",
              "       'Perfumería, higiene, salud', 'Limpieza y hogar', 'Mascotas'],\n",
              "      dtype=object)"
            ]
          },
          "metadata": {},
          "execution_count": 44
        }
      ]
    }
  ]
}